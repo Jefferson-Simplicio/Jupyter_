{
 "cells": [
  {
   "cell_type": "markdown",
   "metadata": {},
   "source": [
    "# Exercícios\n",
    "\n",
    "## 1. Faturamento do Melhor e do Pior Mês do Ano\n",
    "\n",
    "Qual foi o valor de vendas do melhor mês do Ano?\n",
    "E valor do pior mês do ano?"
   ]
  },
  {
   "cell_type": "code",
   "execution_count": 56,
   "metadata": {},
   "outputs": [
    {
     "name": "stdout",
     "output_type": "stream",
     "text": [
      "O mes nov foi o com o maior número de vendas. \n",
      "O mes dez foi o com o menor número de vendas. \n"
     ]
    }
   ],
   "source": [
    "meses = ['jan', 'fev', 'mar', 'abr', 'mai', 'jun', 'jul', 'ago', 'set', 'out', 'nov', 'dez']\n",
    "vendas_1sem = [25000, 29000, 22200, 17750, 15870, 19900]\n",
    "vendas_2sem = [19850, 20120, 17540, 15555, 49051, 9650]\n",
    "\n",
    "vendas_anuais = vendas_1sem + vendas_2sem\n",
    "\n",
    "maior_venda = max(vendas_anuais)\n",
    "menor_venda = min(vendas_anuais)\n",
    "\n",
    "i = vendas_anuais.index(maior_venda)\n",
    "print('O mes {} foi o com o maior número de vendas. '.format(meses[i]))\n",
    "\n",
    "i = vendas_anuais.index(menor_venda)\n",
    "print('O mes {} foi o com o menor número de vendas. '.format(meses[i]))"
   ]
  },
  {
   "cell_type": "markdown",
   "metadata": {},
   "source": [
    "## 2. Continuação\n",
    "\n",
    "Agora relacione as duas listas para printar 'O melhor mês do ano foi {} com {} vendas' e o mesmo para o pior mês do ano.\n",
    "\n",
    "Calcule também o faturamento total do Ano e quanto que o melhor mês representou do faturamento total.\n",
    "\n",
    "Obs: Para o faturamento total, pode usar a função sum(lista) que soma todos os itens de uma lista"
   ]
  },
  {
   "cell_type": "code",
   "execution_count": 48,
   "metadata": {},
   "outputs": [
    {
     "name": "stdout",
     "output_type": "stream",
     "text": [
      "O melhor mês do ano foi nov com R$49.051,00 de vendas.\n",
      "O melhor mês representou 18.76% dos lucros totais da empresa. \n",
      "O pior mês do ano foi dez com R$9.650,00 de vendas.\n"
     ]
    }
   ],
   "source": [
    "vendas_total = sum(vendas_anuais)\n",
    "\n",
    "i = vendas_anuais.index(maior_venda)\n",
    "porcentagem = (maior_venda / vendas_total)\n",
    "\n",
    "melhor_texto = 'R${:_.2f}'.format(maior_venda)\n",
    "melhor_texto = melhor_texto.replace('.', ',').replace('_', '.')\n",
    "print('O melhor mês do ano foi {} com {} de vendas.'.format(meses[i] , melhor_texto))\n",
    "print('O melhor mês representou {:.2%} dos lucros totais da empresa. '.format(porcentagem))\n",
    "\n",
    "i = vendas_anuais.index(menor_venda)\n",
    "\n",
    "pior_texto = 'R${:_.2f}'.format(menor_venda)\n",
    "pior_texto = pior_texto.replace('.', ',').replace('_', '.')\n",
    "print('O pior mês do ano foi {} com {} de vendas.'.format(meses[i] , pior_texto))"
   ]
  },
  {
   "cell_type": "markdown",
   "metadata": {},
   "source": [
    "## 3. Crie uma lista com o top 3 valores de vendas do ano (sem fazer \"no olho\")\n",
    "\n",
    "Dica: o método remove retira um item da lista."
   ]
  },
  {
   "cell_type": "code",
   "execution_count": 57,
   "metadata": {},
   "outputs": [
    {
     "name": "stdout",
     "output_type": "stream",
     "text": [
      "[25000, 29000, 22200, 17750, 15870, 19900, 19850, 20120, 17540, 15555, 49051, 9650]\n",
      "[25000, 29000, 22200, 17750, 15870, 19900, 19850, 20120, 17540, 15555, 9650]\n",
      "[25000, 22200, 17750, 15870, 19900, 19850, 20120, 17540, 15555, 9650]\n",
      "[22200, 17750, 15870, 19900, 19850, 20120, 17540, 15555, 9650]\n",
      "[49051, 29000, 25000]\n"
     ]
    }
   ],
   "source": [
    "top3 = []\n",
    "\n",
    "print(vendas_anuais)\n",
    "top3.append(maior_venda)\n",
    "vendas_anuais.remove(maior_venda)\n",
    "print(vendas_anuais)\n",
    "\n",
    "maior_venda = max(vendas_anuais)\n",
    "top3.append(maior_venda)\n",
    "vendas_anuais.remove(maior_venda)\n",
    "print(vendas_anuais)\n",
    "\n",
    "maior_venda = max(vendas_anuais)\n",
    "top3.append(maior_venda)\n",
    "vendas_anuais.remove(maior_venda)\n",
    "print(vendas_anuais)\n",
    "\n",
    "print(top3)\n"
   ]
  }
 ],
 "metadata": {
  "kernelspec": {
   "display_name": "Python 3 (ipykernel)",
   "language": "python",
   "name": "python3"
  },
  "language_info": {
   "codemirror_mode": {
    "name": "ipython",
    "version": 3
   },
   "file_extension": ".py",
   "mimetype": "text/x-python",
   "name": "python",
   "nbconvert_exporter": "python",
   "pygments_lexer": "ipython3",
   "version": "3.9.12"
  }
 },
 "nbformat": 4,
 "nbformat_minor": 4
}
